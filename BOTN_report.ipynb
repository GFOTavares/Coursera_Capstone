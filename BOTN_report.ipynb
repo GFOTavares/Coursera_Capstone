{
 "cells": [
  {
   "cell_type": "markdown",
   "metadata": {},
   "source": [
    "# Finding the best location for a police DUI checkpoint, in North York\n",
    "\n",
    "## 1. Description of the problem and background\n",
    "\n",
    "### The police department in the Toronto borough of North York have been faced with an increased number of drunk driving incidents.\n",
    "### As such, they plan to set a DUI checkpoint in 3 different neighborhoods of the borough, in order to curb the amount of drunk drivers\n",
    "### However, before doing so, the police department needs to identify the ideal neighborhood for each of these checkpoints. To do so, they will take into account venues that sell alcohol, as they believe that most drunk drivers will be returning from one of these venues. The main venues identified are bars, restaurants and food joints.\n",
    "\n",
    "## 2. Description of data and how it will be used\n",
    "\n",
    "### To complete this task, we will need geo-locational data about that specific borough and the neighborhoods in it, namely the latitude and longitude. We chose \"North York\" in Toronto. This is easily provided for us by the police department, as they have already identified where drunk driving incidents are more prevalent.\n",
    "### We will need data about different venues in different neighborhoods of that specific borough. In order to gain that information we will use \"Foursquare\" locational information. By locational information for each venue we mean basic and advanced information about that venue. For example there is a venue in one of the neighborhoods. As basic information, we can obtain its precise latitude and longitude and also its distance from the center of the neighborhood. But we are looking for advanced information such as the category of that venue and whether this venue is a popular one in its category or maybe the average price of the services of this venue. A typical request from Foursquare will provide us with the following information:"
   ]
  },
  {
   "cell_type": "code",
   "execution_count": null,
   "metadata": {},
   "outputs": [],
   "source": []
  }
 ],
 "metadata": {
  "kernelspec": {
   "display_name": "Python 3",
   "language": "python",
   "name": "python3"
  },
  "language_info": {
   "codemirror_mode": {
    "name": "ipython",
    "version": 3
   },
   "file_extension": ".py",
   "mimetype": "text/x-python",
   "name": "python",
   "nbconvert_exporter": "python",
   "pygments_lexer": "ipython3",
   "version": "3.7.3"
  }
 },
 "nbformat": 4,
 "nbformat_minor": 2
}
