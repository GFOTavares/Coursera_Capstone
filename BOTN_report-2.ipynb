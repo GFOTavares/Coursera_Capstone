{
 "cells": [
  {
   "cell_type": "markdown",
   "metadata": {},
   "source": [
    "# Finding the best location for a police DUI checkpoint, in North York\n",
    "\n",
    "## Description of the problem and background\n",
    "\n",
    "### The police department in the Toronto borough of North York have been faced with an increased number of drunk driving incidents.\n",
    "### As such, they plan to set a DUI checkpoint in 3 different neighborhoods of the borough, in order to curb the amount of drunk drivers\n",
    "### However, before doing so, the police department needs to identify the ideal neighborhood for each of these checkpoints. To do so, they will take into account venues that sell alcohol, as they believe that most drunk drivers will be returning from one of these venues. The main venues identified are bars, restaurants and food joints.\n",
    "\n",
    "## Description of data and how it will be used\n",
    "\n",
    "### To complete this task, we will need geo-locational data about that specific borough and the neighborhoods in it, namely the latitude and longitude. We chose \"North York\" in Toronto. This is easily provided for us by the police department, as they have already identified where drunk driving incidents are more prevalent.\n",
    "### We will need data about different venues in different neighborhoods of that specific borough. In order to gain that information we will use \"Foursquare\" locational information. By locational information for each venue we mean basic and advanced information about that venue. For example there is a venue in one of the neighborhoods. As basic information, we can obtain its precise latitude and longitude and also its distance from the center of the neighborhood. But we are looking for advanced information such as the category of that venue and whether this venue is a popular one in its category or maybe the average price of the services of this venue. A typical request from Foursquare will provide us with the following information:"
   ]
  },
  {
   "cell_type": "markdown",
   "metadata": {},
   "source": [
    "## Methodology\n",
    "\n",
    "### 3.1.The first step in this analysis is to identify the neighborhoods contained inside the borough of North York. To do so, we use the postal codes of each one, retrieved from wikipedia.\n",
    "\n",
    "### 3.2 After having a list of neighborhoods, we need to connect to the Foursquare API in order to extract the information about venues in each neighborhood. For each neighborhood, the chosen radius was 1000m (venues that are, at most, 1000 meters from the center of the neighborhood).\n",
    "\n",
    "### 3.3 Finally, we need to process the raw data in order to find the features we want to use for each venue. Our main feature of analysis is the category of each venue. Therefore,the category of each venue will be processed through \"One-hot encoding\", making it so that different venues appear in different columns. At this point, the dataset is finally ready for analysis\n"
   ]
  },
  {
   "cell_type": "markdown",
   "metadata": {},
   "source": [
    "## Results and Discussion\n",
    "\n",
    "### The first step to obtain the intended results is to apply the chosen machine learning technique - in this case it is K-means clustering\n",
    "### Therefore, we cluster the neighborhoods via the K-means clustering method. A total of 5 clusters were selected, as this number was deemed to offer enough granularity to the analysis without making it overly complex.\n",
    "### After clustering, all that is left is to update the dataset, adding a new column that assigns each neighborhood to a cluster\n",
    "### Now, we look at the clusters and select the ones with the highest prevalence of alcohol-selling venues. In this case, the best location is L4, followed by L1 and finally by L3\n",
    "\n",
    "## Thank you!"
   ]
  },
  {
   "cell_type": "code",
   "execution_count": null,
   "metadata": {},
   "outputs": [],
   "source": []
  }
 ],
 "metadata": {
  "kernelspec": {
   "display_name": "Python 3",
   "language": "python",
   "name": "python3"
  },
  "language_info": {
   "codemirror_mode": {
    "name": "ipython",
    "version": 3
   },
   "file_extension": ".py",
   "mimetype": "text/x-python",
   "name": "python",
   "nbconvert_exporter": "python",
   "pygments_lexer": "ipython3",
   "version": "3.7.3"
  }
 },
 "nbformat": 4,
 "nbformat_minor": 2
}
